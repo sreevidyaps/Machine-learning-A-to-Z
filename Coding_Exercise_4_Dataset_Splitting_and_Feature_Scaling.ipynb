{
  "nbformat": 4,
  "nbformat_minor": 0,
  "metadata": {
    "colab": {
      "provenance": [],
      "authorship_tag": "ABX9TyPwJrBNu3jeSNXTEcIp1E1G",
      "include_colab_link": true
    },
    "kernelspec": {
      "name": "python3",
      "display_name": "Python 3"
    },
    "language_info": {
      "name": "python"
    }
  },
  "cells": [
    {
      "cell_type": "markdown",
      "metadata": {
        "id": "view-in-github",
        "colab_type": "text"
      },
      "source": [
        "<a href=\"https://colab.research.google.com/github/sreevidyaps/Machine-learning-A-to-Z/blob/main/Coding_Exercise_4_Dataset_Splitting_and_Feature_Scaling.ipynb\" target=\"_parent\"><img src=\"https://colab.research.google.com/assets/colab-badge.svg\" alt=\"Open In Colab\"/></a>"
      ]
    },
    {
      "cell_type": "code",
      "execution_count": 1,
      "metadata": {
        "colab": {
          "base_uri": "https://localhost:8080/"
        },
        "id": "3-wRYd50Ya2F",
        "outputId": "8b0f0eda-dcd5-43bf-dac4-bcbf3a1feb42"
      },
      "outputs": [
        {
          "output_type": "stream",
          "name": "stdout",
          "text": [
            "[[302 1 3 ... '367226' 23.25 nan]\n",
            " [310 1 1 ... 'PC 17485' 56.9292 'E36']\n",
            " [517 1 2 ... 'C.A. 34260' 10.5 'F33']\n",
            " ...\n",
            " [73 0 2 ... 'S.O.C. 14879' 73.5 nan]\n",
            " [236 0 3 ... 'W./C. 6609' 7.55 nan]\n",
            " [38 0 3 ... 'A./5. 2152' 8.05 nan]]\n",
            "[[863 1 1 ... '17466' 25.9292 'D17']\n",
            " [224 0 3 ... '349234' 7.8958 nan]\n",
            " [85 1 2 ... 'SO/C 14885' 10.5 nan]\n",
            " ...\n",
            " [630 0 3 ... '334912' 7.7333 nan]\n",
            " [422 0 3 ... 'A/5. 13032' 7.7333 nan]\n",
            " [449 1 3 ... '2666' 19.2583 nan]]\n",
            "['Q' 'C' 'S' 'S' 'S' 'S' 'S' 'S' 'C' 'Q' 'C' 'S' 'S' 'Q' 'C' 'C' nan 'S'\n",
            " 'S' 'S' 'C' 'S' 'S' 'C' 'C' 'S' 'S' 'S' 'S' 'S' 'S' 'C' 'S' 'C' 'C' 'S'\n",
            " 'S' 'Q' 'C' 'S' 'S' 'S' 'C' 'S' 'S' 'Q' 'C' 'C' 'S' 'S' 'S' 'S' 'C' 'C'\n",
            " 'S' 'S' 'C' 'S' 'Q' 'C' 'S' 'S' 'S' 'C' 'S' 'S' 'S' 'S' 'S' 'S' 'Q' 'S'\n",
            " 'Q' 'S' 'S' 'S' 'Q' 'Q' 'S' 'S' 'S' 'S' 'Q' 'Q' 'S' 'S' 'S' 'C' 'S' 'C'\n",
            " 'C' 'S' 'S' 'S' 'S' 'S' 'S' 'S' 'S' 'S' 'S' 'S' 'S' 'S' 'S' 'S' 'S' 'C'\n",
            " 'C' 'C' 'S' 'S' 'S' 'S' 'S' 'C' 'C' 'S' 'Q' 'Q' 'Q' 'S' 'C' 'S' 'S' 'S'\n",
            " 'S' 'S' 'S' 'S' 'S' 'S' 'S' 'S' 'Q' 'S' 'S' 'C' 'S' 'S' 'S' 'S' 'S' 'S'\n",
            " 'S' 'S' 'S' 'S' 'C' 'C' 'S' 'S' 'C' 'S' 'S' 'Q' 'S' 'S' 'C' 'S' 'C' 'C'\n",
            " 'S' 'C' 'S' 'S' 'S' 'S' 'S' 'C' 'S' 'S' 'S' 'S' 'C' 'C' 'S' 'S' 'S' 'S'\n",
            " 'S' 'S' 'Q' 'S' 'Q' 'S' 'S' 'S' 'S' 'S' 'S' 'C' 'S' 'S' 'C' 'C' 'S' 'S'\n",
            " 'S' 'S' 'Q' 'S' 'C' 'S' 'S' 'Q' 'S' 'C' 'C' 'S' 'S' 'S' 'C' 'S' 'Q' 'S'\n",
            " 'Q' 'S' 'S' 'C' 'Q' 'S' 'S' 'S' 'C' 'S' 'S' 'S' 'S' 'S' 'S' 'Q' 'S' 'S'\n",
            " 'S' 'S' 'S' 'S' 'Q' 'C' 'S' 'S' 'C' 'S' 'S' 'S' 'S' 'C' 'Q' 'C' 'C' 'S'\n",
            " 'S' 'Q' 'S' 'C' 'S' 'S' 'S' 'Q' 'S' 'S' 'S' 'S' 'Q' 'S' 'S' 'S' 'S' 'C'\n",
            " 'C' 'S' 'S' 'S' 'S' 'C' 'C' 'S' 'S' 'S' 'C' 'Q' 'S' 'S' 'S' 'S' 'S' 'S'\n",
            " 'S' 'S' 'S' 'S' 'S' 'C' 'S' 'C' 'S' 'C' 'C' 'S' 'S' 'S' 'S' 'S' 'S' 'S'\n",
            " 'C' 'S' 'C' 'C' 'S' 'S' 'C' 'Q' 'Q' 'S' 'S' 'C' 'Q' 'C' 'S' 'C' 'C' 'S'\n",
            " 'C' 'S' 'S' 'S' 'S' 'S' 'S' 'C' 'S' 'C' 'C' 'Q' 'S' 'S' 'S' 'S' 'S' 'S'\n",
            " 'S' 'S' 'S' 'S' 'S' 'S' 'S' 'S' 'S' 'S' 'S' 'C' 'S' 'S' 'S' 'C' 'S' 'S'\n",
            " 'S' 'C' 'S' 'S' 'S' 'S' 'S' 'S' 'C' 'S' 'C' 'S' 'S' 'S' 'S' 'S' 'S' 'S'\n",
            " 'S' 'S' 'S' 'C' 'S' 'S' 'S' 'S' 'C' 'S' 'S' 'Q' 'Q' 'S' 'S' 'S' 'C' 'S'\n",
            " 'C' 'C' 'S' 'Q' 'S' 'S' 'S' 'S' 'S' 'S' 'S' 'C' 'S' 'S' 'S' 'S' 'Q' 'C'\n",
            " 'Q' 'S' 'Q' 'S' 'S' 'S' 'S' 'Q' 'S' 'S' 'C' 'C' 'C' 'S' 'S' 'S' 'S' 'S'\n",
            " 'S' 'S' 'S' 'S' 'C' 'S' 'S' 'Q' 'S' 'C' 'S' 'S' 'S' 'S' 'S' 'S' 'S' 'S'\n",
            " 'S' 'Q' 'S' 'S' 'C' 'S' 'S' 'S' 'S' 'S' 'S' 'S' 'S' 'S' 'S' 'S' 'S' 'S'\n",
            " 'S' 'C' 'S' 'S' 'S' 'S' 'Q' 'S' 'S' 'S' 'C' 'S' 'C' 'S' 'S' 'S' 'Q' 'S'\n",
            " 'Q' 'S' 'Q' 'S' 'Q' 'S' 'S' 'S' 'S' 'S' 'C' 'S' 'S' 'S' 'S' 'S' 'C' 'S'\n",
            " 'S' 'S' 'S' 'Q' 'S' 'C' 'S' 'S' 'C' 'S' 'S' 'S' 'Q' 'Q' 'S' 'S' 'S' 'C'\n",
            " 'S' 'C' 'C' 'S' 'S' 'S' 'S' 'S' 'S' 'S' 'S' 'S' 'C' 'S' 'C' 'S' 'S' 'S'\n",
            " 'C' 'S' 'S' 'C' 'S' 'C' 'S' 'Q' 'S' 'Q' 'S' 'S' 'S' 'S' 'S' 'S' 'S' 'S'\n",
            " 'S' 'Q' 'S' 'S' 'S' 'S' 'S' 'S' 'S' 'C' 'S' 'S' 'S' 'S' 'S' 'S' 'C' 'S'\n",
            " 'S' 'S' 'S' 'S' 'S' 'S' 'S' 'C' 'S' 'C' 'S' 'S' 'S' 'C' 'C' 'S' 'S' 'S'\n",
            " 'S' 'S' 'S' 'S' 'S' 'S' 'S' 'S' 'C' 'S' 'S' 'S' 'S' 'S' 'C' 'S' 'S' 'S'\n",
            " 'C' 'S' 'S' 'S' 'S' 'S' 'C' 'S' 'S' 'S' 'S' 'Q' 'S' 'S' 'S' 'S' 'S' 'S'\n",
            " 'C' 'S' 'C' 'S' 'Q' 'S' 'S' 'Q' 'S' 'S' 'S' 'S' 'S' 'C' 'S' 'Q' 'C' 'S'\n",
            " 'S' 'S' 'S' 'S' 'S' 'C' 'S' 'C' 'S' 'S' 'S' 'S' 'S' 'S' 'S' 'S' 'S' 'S'\n",
            " 'S' 'S' 'S' 'Q' 'S' 'Q' 'C' 'S' 'C' 'S' 'S' nan 'C' 'S' 'C' 'S' 'S' 'S'\n",
            " 'S' 'S' 'C' 'S' 'S' 'S' 'S' 'S' 'S' 'Q' 'S' 'S' 'S' 'S' 'S' 'S' 'S' 'Q'\n",
            " 'C' 'S' 'S' 'C' 'C' 'S' 'Q' 'S' 'S' 'S']\n",
            "['S' 'S' 'S' 'Q' 'S' 'S' 'S' 'S' 'C' 'Q' 'S' 'S' 'S' 'S' 'Q' 'S' 'S' 'S'\n",
            " 'S' 'S' 'S' 'C' 'C' 'S' 'C' 'S' 'C' 'S' 'S' 'S' 'S' 'S' 'S' 'S' 'Q' 'S'\n",
            " 'S' 'S' 'C' 'S' 'S' 'S' 'S' 'S' 'C' 'S' 'S' 'S' 'C' 'S' 'C' 'S' 'S' 'S'\n",
            " 'S' 'S' 'S' 'S' 'S' 'S' 'S' 'C' 'S' 'S' 'S' 'C' 'C' 'C' 'S' 'S' 'S' 'S'\n",
            " 'C' 'S' 'S' 'C' 'S' 'Q' 'C' 'S' 'S' 'S' 'S' 'S' 'C' 'S' 'S' 'C' 'S' 'S'\n",
            " 'S' 'C' 'Q' 'Q' 'S' 'C' 'S' 'C' 'S' 'S' 'C' 'S' 'C' 'C' 'C' 'S' 'S' 'S'\n",
            " 'S' 'S' 'C' 'C' 'S' 'S' 'S' 'S' 'S' 'S' 'S' 'S' 'S' 'S' 'S' 'S' 'S' 'S'\n",
            " 'S' 'S' 'S' 'Q' 'S' 'S' 'C' 'C' 'S' 'C' 'S' 'S' 'S' 'S' 'S' 'S' 'S' 'S'\n",
            " 'S' 'S' 'S' 'S' 'Q' 'S' 'S' 'S' 'Q' 'Q' 'S' 'S' 'S' 'S' 'C' 'S' 'S' 'S'\n",
            " 'S' 'S' 'S' 'C' 'S' 'S' 'S' 'C' 'C' 'S' 'S' 'S' 'S' 'S' 'Q' 'Q' 'C']\n"
          ]
        }
      ],
      "source": [
        "# Import necessary libraries\n",
        "import numpy as np\n",
        "import pandas as pd\n",
        "# Load the Iris dataset\n",
        "data=pd.read_csv('/content/titanic.csv')\n",
        "# Separate features and target\n",
        "x=data.iloc[:,:-1].values\n",
        "y=data.iloc[:,-1].values\n",
        "# Split the dataset into an 80-20 training-test set\n",
        "from sklearn.model_selection import train_test_split\n",
        "X_test, X_train, y_test, y_train = train_test_split(x,y,test_size=0.2, random_state=1)\n",
        "print(X_test)\n",
        "print(X_train)\n",
        "print(y_test)\n",
        "print(y_train)\n",
        "# Apply feature scaling on the training and test sets\n",
        "\n",
        "# Print the scaled training and test sets"
      ]
    }
  ]
}