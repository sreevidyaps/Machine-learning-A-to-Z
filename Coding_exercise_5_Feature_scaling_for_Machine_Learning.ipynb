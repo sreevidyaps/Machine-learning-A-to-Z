{
  "nbformat": 4,
  "nbformat_minor": 0,
  "metadata": {
    "colab": {
      "provenance": [],
      "authorship_tag": "ABX9TyPGnAfLKbTEYp/+riMP324w",
      "include_colab_link": true
    },
    "kernelspec": {
      "name": "python3",
      "display_name": "Python 3"
    },
    "language_info": {
      "name": "python"
    }
  },
  "cells": [
    {
      "cell_type": "markdown",
      "metadata": {
        "id": "view-in-github",
        "colab_type": "text"
      },
      "source": [
        "<a href=\"https://colab.research.google.com/github/sreevidyaps/Machine-learning-A-to-Z/blob/main/Coding_exercise_5_Feature_scaling_for_Machine_Learning.ipynb\" target=\"_parent\"><img src=\"https://colab.research.google.com/assets/colab-badge.svg\" alt=\"Open In Colab\"/></a>"
      ]
    },
    {
      "cell_type": "code",
      "execution_count": 1,
      "metadata": {
        "colab": {
          "base_uri": "https://localhost:8080/"
        },
        "id": "3_YQbdfwlW1b",
        "outputId": "2ba9d8ce-18af-4e13-c7e1-95c0453c97db"
      },
      "outputs": [
        {
          "output_type": "stream",
          "name": "stdout",
          "text": [
            "[[-0.73307913  0.6648928  -1.25704443 ...  0.98846046  0.0630946\n",
            "  -0.87223395]\n",
            " [ 1.06774091 -0.62346154  1.52314768 ... -1.7535127  -0.17390392\n",
            "  -0.77978452]\n",
            " [-1.74604041 -1.07158479 -1.35814232 ...  2.32756363  0.77409018\n",
            "   3.28799021]\n",
            " ...\n",
            " [-0.95818164  1.08500835 -0.90320179 ...  0.22325865 -1.00339876\n",
            "   0.32960859]\n",
            " [-0.62052788  0.55286199 -1.35814232 ...  0.35079228 -0.47015208\n",
            "  -1.33448108]\n",
            " [ 0.44870902 -0.73549236  1.16930505 ... -0.6694768   0.18159387\n",
            "   1.90124882]]\n",
            "[[ 2.60275354e-01 -5.76473023e-01  1.98167309e+00 ...  1.70962229e+00\n",
            "   3.86884177e-02  1.60001986e-01]\n",
            " [ 1.97178298e-01  6.44089408e-01 -8.60474638e-04 ... -2.49228825e-01\n",
            "  -1.35681916e-01 -1.42066660e-01]\n",
            " [ 1.26982824e+00 -9.64833796e-01  1.65125083e+00 ... -7.38941605e-01\n",
            "   2.71182196e-01  9.65518377e-01]\n",
            " ...\n",
            " [-8.12374590e-01  8.66009850e-01 -1.54283103e+00 ...  1.01003261e+00\n",
            "  -6.58792916e-01 -9.47583051e-01]\n",
            " [-1.38024809e+00 -6.87433244e-01  8.25195178e-01 ...  1.07999158e+00\n",
            "   1.25928075e+00  8.64828828e-01]\n",
            " [ 1.58531352e+00 -1.07579402e+00  1.32082857e+00 ... -1.09310888e-01\n",
            "   6.78046307e-01  1.16689747e+00]]\n"
          ]
        }
      ],
      "source": [
        "# Import necessary libraries\n",
        "import pandas as pd\n",
        "import numpy as np\n",
        "import matplotlib.pyplot as plt\n",
        "\n",
        "# Load the Wine Quality Red dataset\n",
        "data=pd.read_csv('winequality-red.csv')\n",
        "\n",
        "# Separate features and target\n",
        "X=data.iloc[:,:-1].values\n",
        "y=data.iloc[:,-1].values\n",
        "\n",
        "# Split the dataset into an 80-20 training-test set\n",
        "from sklearn.model_selection import train_test_split\n",
        "X_train, X_test, y_train, y_test = train_test_split(X,y, test_size=0.2, random_state=1)\n",
        "\n",
        "# Create an instance of the StandardScaler class\n",
        "from sklearn.preprocessing import StandardScaler\n",
        "sc=StandardScaler()\n",
        "\n",
        "\n",
        "# Fit the StandardScaler on the features from the training set and transform it\n",
        "X_train=sc.fit_transform(X_train)\n",
        "\n",
        "\n",
        "# Apply the transform to the test set\n",
        "X_test=sc.fit_transform(X_test)\n",
        "\n",
        "# Print the scaled training and test datasets\n",
        "print(X_train)\n",
        "print(X_test)"
      ]
    }
  ]
}